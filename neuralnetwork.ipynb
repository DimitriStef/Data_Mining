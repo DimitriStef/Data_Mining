{
 "cells": [
  {
   "cell_type": "code",
   "execution_count": null,
   "metadata": {},
   "outputs": [],
   "source": [
    "import matplotlib.pyplot as plt\n",
    "import pandas as pd\n",
    "import seaborn as sns\n",
    "\n",
    "import tensorflow as tf\n",
    "from tensorflow import keras\n",
    "from tensorflow.keras import layers\n",
    "\n",
    "import numpy as np\n",
    "from scipy import stats\n",
    "from numpy import median\n",
    "from sklearn import metrics\n",
    "from sklearn import model_selection\n",
    "from sklearn.metrics import mean_squared_log_error, r2_score\n",
    "from sklearn.model_selection import train_test_split\n",
    "from sklearn.metrics import accuracy_score\n",
    "from sklearn.preprocessing import LabelEncoder, OneHotEncoder, StandardScaler\n",
    "from sklearn.compose import ColumnTransformer, make_column_transformer\n",
    "from sklearn.decomposition import PCA\n",
    "\n",
    "import tensorflow_docs as tfdocs\n",
    "import tensorflow_docs.plots\n",
    "import tensorflow_docs.modeling"
   ]
  },
  {
   "cell_type": "code",
   "execution_count": 1,
   "metadata": {},
   "outputs": [
    {
     "ename": "NameError",
     "evalue": "name 'pd' is not defined",
     "output_type": "error",
     "traceback": [
      "\u001b[1;31m---------------------------------------------------------------------------\u001b[0m",
      "\u001b[1;31mNameError\u001b[0m                                 Traceback (most recent call last)",
      "\u001b[1;32m<ipython-input-1-e47197d34eb7>\u001b[0m in \u001b[0;36m<module>\u001b[1;34m\u001b[0m\n\u001b[1;32m----> 1\u001b[1;33m \u001b[0mdf_train\u001b[0m \u001b[1;33m=\u001b[0m \u001b[0mpd\u001b[0m\u001b[1;33m.\u001b[0m\u001b[0mread_csv\u001b[0m\u001b[1;33m(\u001b[0m\u001b[1;34m'train.csv'\u001b[0m\u001b[1;33m)\u001b[0m\u001b[1;33m\u001b[0m\u001b[1;33m\u001b[0m\u001b[0m\n\u001b[0m\u001b[0;32m      2\u001b[0m \u001b[0mdf_train\u001b[0m \u001b[1;33m=\u001b[0m \u001b[0mdf_train\u001b[0m\u001b[1;33m.\u001b[0m\u001b[0mdrop\u001b[0m\u001b[1;33m(\u001b[0m\u001b[1;33m[\u001b[0m\u001b[1;34m'atemp'\u001b[0m\u001b[1;33m,\u001b[0m \u001b[1;34m'casual'\u001b[0m\u001b[1;33m,\u001b[0m \u001b[1;34m'registered'\u001b[0m\u001b[1;33m,\u001b[0m \u001b[1;34m'windspeed'\u001b[0m\u001b[1;33m]\u001b[0m\u001b[1;33m,\u001b[0m \u001b[0maxis\u001b[0m\u001b[1;33m=\u001b[0m\u001b[1;36m1\u001b[0m\u001b[1;33m)\u001b[0m\u001b[1;33m\u001b[0m\u001b[1;33m\u001b[0m\u001b[0m\n\u001b[0;32m      3\u001b[0m \u001b[1;33m\u001b[0m\u001b[0m\n\u001b[0;32m      4\u001b[0m \u001b[1;31m# rename some columns\u001b[0m\u001b[1;33m\u001b[0m\u001b[1;33m\u001b[0m\u001b[1;33m\u001b[0m\u001b[0m\n\u001b[0;32m      5\u001b[0m df_train.rename(columns={'weathersit':'weather',\n",
      "\u001b[1;31mNameError\u001b[0m: name 'pd' is not defined"
     ]
    }
   ],
   "source": [
    "df_train = pd.read_csv('train.csv')\n",
    "df_train = df_train.drop(['atemp', 'casual', 'registered', 'windspeed'], axis=1)\n",
    "\n",
    "# rename some columns\n",
    "df_train.rename(columns={'weathersit':'weather',\n",
    "                     'mnth':'month',\n",
    "                     'hr':'hour',\n",
    "                     'yr':'year',\n",
    "                     'hum': 'humidity',\n",
    "                     'cnt':'count'},inplace=True)\n",
    "\n",
    "# change some int values to categorical ones\n",
    "df_train['season'] = df_train.season.astype('category')\n",
    "df_train['year'] = df_train.year.astype('category')\n",
    "df_train['month'] = df_train.month.astype('category')\n",
    "df_train['hour'] = df_train.hour.astype('category')\n",
    "df_train['holiday'] = df_train.holiday.astype('category')\n",
    "df_train['weekday'] = df_train.weekday.astype('category')\n",
    "df_train['workingday'] = df_train.workingday.astype('category')\n",
    "df_train['weather'] = df_train.weather.astype('category')\n",
    "\n",
    "df_train['weather'] = df_train['weather'].replace(4,3)\n",
    "df_train = pd.get_dummies(df_train)\n",
    "df_train = df_train.drop(df_train[['weather_4']], axis = 1)\n",
    "df_train"
   ]
  },
  {
   "cell_type": "code",
   "execution_count": 35,
   "metadata": {},
   "outputs": [
    {
     "name": "stdout",
     "output_type": "stream",
     "text": [
      "Model: \"sequential_6\"\n",
      "_________________________________________________________________\n",
      "Layer (type)                 Output Shape              Param #   \n",
      "=================================================================\n",
      "dense_18 (Dense)             (None, 64)                3776      \n",
      "_________________________________________________________________\n",
      "dropout_12 (Dropout)         (None, 64)                0         \n",
      "_________________________________________________________________\n",
      "dense_19 (Dense)             (None, 32)                2080      \n",
      "_________________________________________________________________\n",
      "dropout_13 (Dropout)         (None, 32)                0         \n",
      "_________________________________________________________________\n",
      "dense_20 (Dense)             (None, 1)                 33        \n",
      "=================================================================\n",
      "Total params: 5,889\n",
      "Trainable params: 5,889\n",
      "Non-trainable params: 0\n",
      "_________________________________________________________________\n",
      "\n",
      "Epoch: 0, loss:3.1478,  root_mean_squared_log_error:1.6403,  val_loss:1.4345,  val_root_mean_squared_log_error:1.1957,  \n",
      "...................................................................................................."
     ]
    },
    {
     "data": {
      "image/png": "[encoded data removed]",
      "text/plain": [
       "<Figure size 1440x720 with 1 Axes>"
      ]
     },
     "metadata": {
      "needs_background": "light"
     },
     "output_type": "display_data"
    }
   ],
   "source": [
    "X = df_train.drop(df_train[['count']], axis = 1)\n",
    "y = df_train['count']\n",
    "X_train, X_test, y_train, y_test = train_test_split(X, y, test_size=0.3, random_state=42)\n",
    "\n",
    "X = X.to_numpy()\n",
    "y = y.to_numpy()\n",
    "\n",
    "X_train = X_train.to_numpy()\n",
    "y_train = y_train.to_numpy()\n",
    "\n",
    "X_test = X_test.to_numpy()\n",
    "y_test = y_test.to_numpy()\n",
    "\n",
    "#def root_mean_squared_log_error(y_true, y_pred):\n",
    "##    return tf.keras.losses.MeanSquaredLogarithmicError(y_pred)\n",
    "#    return keras.backend.mean(y_pred)\n",
    "##np.sqrt(mean_squared_log_error(y_pred)\n",
    "\n",
    "K = keras.backend\n",
    "def root_mean_squared_log_error(y_true, y_pred):\n",
    "        return K.sqrt(K.mean(K.square(K.log(1 + y_pred) - K.log(1 + y_true)))) \n",
    "\n",
    "\n",
    "def build_model():\n",
    "    model = keras.Sequential([\n",
    "        layers.Dense(64, activation='relu', input_shape=[X.shape[1]]),\n",
    "        layers.Dropout(0.2),\n",
    "        layers.Dense(32, activation='relu'),\n",
    "        layers.Dropout(0.4),\n",
    "#        layers.Dense(16, activation='relu'),\n",
    "#        layers.Dropout(0.05),\n",
    "        layers.Dense(1)\n",
    "    ])\n",
    "\n",
    "#    optimizer = tf.keras.optimizers.RMSprop(0.001)\n",
    "    optimizer = keras.optimizers.Adam(learning_rate=0.01, beta_1=0.9, beta_2=0.999, amsgrad = False)\n",
    "    model.compile(loss = tf.keras.losses.MeanSquaredLogarithmicError(),\n",
    "                  optimizer=optimizer,\n",
    "                  metrics=[root_mean_squared_log_error])\n",
    "    return model\n",
    "\n",
    "\n",
    "model = build_model()\n",
    "model.summary()\n",
    "\n",
    "num_epochs = 100\n",
    "history = model.fit(X, y, epochs=num_epochs, validation_split=0.22,batch_size=128, verbose=0, callbacks=[tfdocs.modeling.EpochDots()])\n",
    "#history = model.fit(X_train, y_train, epochs=num_epochs, validation_data = (X_test, y_test), batch_size=128, verbose=0, callbacks=[tfdocs.modeling.EpochDots()])\n",
    "\n",
    "\n",
    "####### Cros VAlidation #########\n",
    "#from sklearn.model_selection import KFold\n",
    "#\n",
    "#skf = KFold(n_splits=5)\n",
    "#\n",
    "#num_epochs = 1000\n",
    "#all_scores = []\n",
    "#\n",
    "#for i, (train_indx, test_indx) in enumerate(skf.split(X_train, y_train)):\n",
    "#    print(f'Processing fold: {i+1}')\n",
    "#    partial_train_data = X_train[train_indx]\n",
    "#    partial_train_targets = y_train[train_indx]\n",
    "#    partial_val_data = X_train[test_indx]\n",
    "#    partial_val_targets = y_train[test_indx]\n",
    "#    model = build_model()\n",
    "#    model.fit(partial_train_data, partial_train_targets, epochs=num_epochs, batch_size=20000, verbose=0)\n",
    "#    val_mse, val_mae = model.evaluate(partial_val_data, partial_val_targets, verbose=0)\n",
    "#    all_scores.append(val_mae)\n",
    "#\n",
    "#print(all_scores)\n",
    "#print(np.mean(all_scores))\n",
    "\n",
    "\n",
    "##### to do : FIX PLOT ERROR ####\n",
    "\n",
    "#plotter = tfdocs.plots.HistoryPlotter(smoothing_std=2)\n",
    "#plotter.plot({'Error': history}, metric = \"val_loss\")\n",
    "#plt.ylim([0, 10])\n",
    "#_ = plt.y_test('MAE [MPG]')\n",
    "#\n",
    "#\n",
    "def plot_history(history):\n",
    "    hist = pd.DataFrame(history.history)\n",
    "    hist['epoch'] = history.epoch\n",
    "\n",
    "    plt.figure(figsize=(20, 10))\n",
    "    plt.subplot(1,2,1)\n",
    "    plt.xlabel('Epoch')\n",
    "    plt.ylabel('Mean squared logarithmic Error')\n",
    "    plt.plot(hist['epoch'], hist['loss'],\n",
    "             label='Train Error')\n",
    "    plt.plot(hist['epoch'], hist['val_loss'],\n",
    "             label = 'Val Error')\n",
    "    plt.ylim([0,1.5])\n",
    "    plt.legend()\n",
    "    \n",
    "    plt.show()\n",
    "\n",
    "plot_history(history)"
   ]
  },
  {
   "cell_type": "code",
   "execution_count": 32,
   "metadata": {},
   "outputs": [
    {
     "name": "stdout",
     "output_type": "stream",
     "text": [
      "RMSLE: 0.3381307265274233\n",
      "R2: 0.9206363606285188\n"
     ]
    }
   ],
   "source": [
    "hist = pd.DataFrame(history.history)\n",
    "hist\n",
    "\n",
    "y_pred = model.predict(X_test)\n",
    "\n",
    "for i, y  in enumerate(y_pred):\n",
    "        if y_pred[i] < 0:\n",
    "            y_pred[i] = 0\n",
    "            \n",
    "print('RMSLE:', np.sqrt(mean_squared_log_error(y_test, y_pred)))\n",
    "print('R2:', r2_score(y_test, y_pred))"
   ]
  },
  {
   "cell_type": "code",
   "execution_count": 36,
   "metadata": {},
   "outputs": [
    {
     "name": "stdout",
     "output_type": "stream",
     "text": [
      "WARNING:tensorflow:Falling back from v2 loop because of error: Failed to find data adapter that can handle input: <class 'pandas.core.frame.DataFrame'>, <class 'NoneType'>\n"
     ]
    }
   ],
   "source": [
    "##################### Submission Data #######################\n",
    "\n",
    "filename = 'test.csv' \n",
    "df_test = pd.read_csv(filename)\n",
    "\n",
    "df_test.rename(columns={'weathersit':'weather',\n",
    "                     'mnth':'month',\n",
    "                     'hr':'hour',\n",
    "                     'yr':'year',\n",
    "                     'hum': 'humidity',\n",
    "                     'cnt':'count'},inplace=True)\n",
    "\n",
    "df_test['season'] = df_test.season.astype('category')\n",
    "df_test['year'] = df_test.year.astype('category')\n",
    "df_test['month'] = df_test.month.astype('category')\n",
    "df_test['hour'] = df_test.hour.astype('category')\n",
    "df_test['holiday'] = df_test.holiday.astype('category')\n",
    "df_test['weekday'] = df_test.weekday.astype('category')\n",
    "df_test['workingday'] = df_test.workingday.astype('category')\n",
    "df_test['weather'] = df_test.weather.astype('category')\n",
    "\n",
    "df_test = df_test.drop(['atemp', 'windspeed'], axis=1)\n",
    "df_test = pd.get_dummies(df_test)\n",
    "\n",
    "test_results = model.predict(df_test).flatten()\n",
    "\n",
    "for i, y  in enumerate(test_results):\n",
    "        if test_results[i] < 0:\n",
    "            test_results[i] = 0\n",
    "\n",
    "submission = pd.DataFrame()\n",
    "submission[\"Id\"] = range(test_results.shape[0])\n",
    "submission[\"Predicted\"] = test_results\n",
    "submission.to_csv(\"submission_neuronet.csv\", index=False)"
   ]
  },
  {
   "cell_type": "code",
   "execution_count": null,
   "metadata": {},
   "outputs": [],
   "source": []
  }
 ],
 "metadata": {
  "kernelspec": {
   "display_name": "Python 3",
   "language": "python",
   "name": "python3"
  },
  "language_info": {
   "codemirror_mode": {
    "name": "ipython",
    "version": 3
   },
   "file_extension": ".py",
   "mimetype": "text/x-python",
   "name": "python",
   "nbconvert_exporter": "python",
   "pygments_lexer": "ipython3",
   "version": "3.8.3"
  }
 },
 "nbformat": 4,
 "nbformat_minor": 4
}
